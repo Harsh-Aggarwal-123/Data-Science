{
  "cells": [
    {
      "cell_type": "markdown",
      "metadata": {
        "id": "view-in-github",
        "colab_type": "text"
      },
      "source": [
        "<a href=\"https://colab.research.google.com/github/Harsh-Aggarwal-123/Data-Science/blob/main/BeautifulSoup4_WorkingCopy.ipynb\" target=\"_parent\"><img src=\"https://colab.research.google.com/assets/colab-badge.svg\" alt=\"Open In Colab\"/></a>"
      ]
    },
    {
      "cell_type": "code",
      "execution_count": null,
      "metadata": {
        "id": "-6VWRfgRI8ih"
      },
      "outputs": [],
      "source": [
        "html = '<!DOCTYPE html>\\\n",
        "<html>\\\n",
        "<head>\\\n",
        "<title>PrepInsta Website</title>\\\n",
        "</head>\\\n",
        "<body class=\"myMain\">\\\n",
        "<h1 class=\"mainHead\">Welcome to PrepInsta</h1>\\\n",
        "<p>New Chapter Begins...</p>\\\n",
        "<p>Lets begin...</p>\\\n",
        "<div id=\"sampleDiv\">This is a div\\\n",
        "<p>This is a great website for us to prepare</p>\\\n",
        "</div>\\\n",
        "<p class=\"link\">This is a <a href=\"https://prepinstaprime.com\">Link</a> to PrepInsta website</p>\\\n",
        "<p>We wish you <b>All the best</b></p>\\\n",
        "<h2><a href=\"https://prepinsta.com/terms-and-conditions/\">Terms and Conditions</a></h2>\\\n",
        "<h2 class=\"duplicate\"><a href=\"https://prepinsta.com/terms-and-conditions/\">Terms and Conditions</a></h2>\\\n",
        "</body>\\\n",
        "</html>'"
      ]
    },
    {
      "cell_type": "code",
      "execution_count": null,
      "metadata": {
        "id": "RCDs0TyXI8is",
        "outputId": "d9a21249-f914-4933-aac7-ffac45b4ede6"
      },
      "outputs": [
        {
          "name": "stdout",
          "output_type": "stream",
          "text": [
            "<!DOCTYPE html>\n",
            "<html>\n",
            " <head>\n",
            "  <title>\n",
            "   PrepInsta Website\n",
            "  </title>\n",
            " </head>\n",
            " <body class=\"myMain\">\n",
            "  <h1 class=\"mainHead\">\n",
            "   Welcome to PrepInsta\n",
            "  </h1>\n",
            "  <p>\n",
            "   New Chapter Begins...\n",
            "  </p>\n",
            "  <p>\n",
            "   Lets begin...\n",
            "  </p>\n",
            "  <div id=\"sampleDiv\">\n",
            "   This is a div\n",
            "   <p>\n",
            "    This is a great website for us to prepare\n",
            "   </p>\n",
            "  </div>\n",
            "  <p class=\"link\">\n",
            "   This is a\n",
            "   <a href=\"https://prepinstaprime.com\">\n",
            "    Link\n",
            "   </a>\n",
            "   to PrepInsta website\n",
            "  </p>\n",
            "  <p>\n",
            "   We wish you\n",
            "   <b>\n",
            "    All the best\n",
            "   </b>\n",
            "  </p>\n",
            "  <h2>\n",
            "   <a href=\"https://prepinsta.com/terms-and-conditions/\">\n",
            "    Terms and Conditions\n",
            "   </a>\n",
            "  </h2>\n",
            "  <h2 class=\"duplicate\">\n",
            "   <a href=\"https://prepinsta.com/terms-and-conditions/\">\n",
            "    Terms and Conditions\n",
            "   </a>\n",
            "  </h2>\n",
            " </body>\n",
            "</html>\n"
          ]
        }
      ],
      "source": [
        "from bs4 import BeautifulSoup\n",
        "data = BeautifulSoup(html, 'html.parser')\n",
        "print(data.prettify())"
      ]
    },
    {
      "cell_type": "code",
      "execution_count": null,
      "metadata": {
        "id": "mBDDpoqoI8i0",
        "outputId": "1bc1e0a7-e74e-4980-84b3-e65093edbcfc"
      },
      "outputs": [
        {
          "data": {
            "text/plain": [
              "<html><head><title>PrepInsta Website</title></head><body class=\"myMain\"><h1 class=\"mainHead\">Welcome to PrepInsta</h1><p>New Chapter Begins...</p><p>Lets begin...</p><div id=\"sampleDiv\">This is a div<p>This is a great website for us to prepare</p></div><p class=\"link\">This is a <a href=\"https://prepinstaprime.com\">Link</a> to PrepInsta website</p><p>We wish you <b>All the best</b></p><h2><a href=\"https://prepinsta.com/terms-and-conditions/\">Terms and Conditions</a></h2><h2 class=\"duplicate\"><a href=\"https://prepinsta.com/terms-and-conditions/\">Terms and Conditions</a></h2></body></html>"
            ]
          },
          "execution_count": 3,
          "metadata": {},
          "output_type": "execute_result"
        }
      ],
      "source": [
        "parent = data.body.parent\n",
        "parent"
      ]
    },
    {
      "cell_type": "code",
      "execution_count": null,
      "metadata": {
        "id": "0n_nUZQYI8i2",
        "outputId": "21e4baa5-e4a9-4221-cdcd-8ae2d3e7562c"
      },
      "outputs": [
        {
          "data": {
            "text/plain": [
              "<body class=\"myMain\"><h1 class=\"mainHead\">Welcome to PrepInsta</h1><p>New Chapter Begins...</p><p>Lets begin...</p><div id=\"sampleDiv\">This is a div<p>This is a great website for us to prepare</p></div><p class=\"link\">This is a <a href=\"https://prepinstaprime.com\">Link</a> to PrepInsta website</p><p>We wish you <b>All the best</b></p><h2><a href=\"https://prepinsta.com/terms-and-conditions/\">Terms and Conditions</a></h2><h2 class=\"duplicate\"><a href=\"https://prepinsta.com/terms-and-conditions/\">Terms and Conditions</a></h2></body>"
            ]
          },
          "execution_count": 4,
          "metadata": {},
          "output_type": "execute_result"
        }
      ],
      "source": [
        "parent = data.p.parent\n",
        "parent"
      ]
    },
    {
      "cell_type": "code",
      "execution_count": null,
      "metadata": {
        "id": "GLMNnWdSI8i3",
        "outputId": "38ced340-a669-48fc-e4df-2d8720bae6c7"
      },
      "outputs": [
        {
          "data": {
            "text/plain": [
              "'body'"
            ]
          },
          "execution_count": 5,
          "metadata": {},
          "output_type": "execute_result"
        }
      ],
      "source": [
        "parent_name = data.p.parent.name\n",
        "parent_name"
      ]
    },
    {
      "cell_type": "code",
      "execution_count": null,
      "metadata": {
        "id": "sV2re8W1I8i4",
        "outputId": "d7a740c7-e36a-44c8-f88b-64838ae4624f"
      },
      "outputs": [
        {
          "data": {
            "text/plain": [
              "{'class': ['myMain']}"
            ]
          },
          "execution_count": 6,
          "metadata": {},
          "output_type": "execute_result"
        }
      ],
      "source": [
        "parent_attrs = data.p.parent.attrs\n",
        "parent_attrs"
      ]
    },
    {
      "cell_type": "code",
      "execution_count": null,
      "metadata": {
        "id": "M21iJzYSI8i5",
        "outputId": "316bf8ec-339b-4648-fab8-9bee489302ac"
      },
      "outputs": [
        {
          "data": {
            "text/plain": [
              "<a href=\"https://prepinsta.com/terms-and-conditions/\">Terms and Conditions</a>"
            ]
          },
          "execution_count": 8,
          "metadata": {},
          "output_type": "execute_result"
        }
      ],
      "source": [
        "a_string = data.find(string = \"Terms and Conditions\")\n",
        "\n",
        "a_string.find_parent()"
      ]
    },
    {
      "cell_type": "code",
      "execution_count": null,
      "metadata": {
        "id": "ocAW8HC8I8i6",
        "outputId": "233a3e3b-961c-4e4a-b30d-68c8d20dc4d2"
      },
      "outputs": [
        {
          "data": {
            "text/plain": [
              "[<a href=\"https://prepinsta.com/terms-and-conditions/\">Terms and Conditions</a>,\n",
              " <h2><a href=\"https://prepinsta.com/terms-and-conditions/\">Terms and Conditions</a></h2>,\n",
              " <body class=\"myMain\"><h1 class=\"mainHead\">Welcome to PrepInsta</h1><p>New Chapter Begins...</p><p>Lets begin...</p><div id=\"sampleDiv\">This is a div<p>This is a great website for us to prepare</p></div><p class=\"link\">This is a <a href=\"https://prepinstaprime.com\">Link</a> to PrepInsta website</p><p>We wish you <b>All the best</b></p><h2><a href=\"https://prepinsta.com/terms-and-conditions/\">Terms and Conditions</a></h2><h2 class=\"duplicate\"><a href=\"https://prepinsta.com/terms-and-conditions/\">Terms and Conditions</a></h2></body>,\n",
              " <html><head><title>PrepInsta Website</title></head><body class=\"myMain\"><h1 class=\"mainHead\">Welcome to PrepInsta</h1><p>New Chapter Begins...</p><p>Lets begin...</p><div id=\"sampleDiv\">This is a div<p>This is a great website for us to prepare</p></div><p class=\"link\">This is a <a href=\"https://prepinstaprime.com\">Link</a> to PrepInsta website</p><p>We wish you <b>All the best</b></p><h2><a href=\"https://prepinsta.com/terms-and-conditions/\">Terms and Conditions</a></h2><h2 class=\"duplicate\"><a href=\"https://prepinsta.com/terms-and-conditions/\">Terms and Conditions</a></h2></body></html>,\n",
              " <!DOCTYPE html>\n",
              " <html><head><title>PrepInsta Website</title></head><body class=\"myMain\"><h1 class=\"mainHead\">Welcome to PrepInsta</h1><p>New Chapter Begins...</p><p>Lets begin...</p><div id=\"sampleDiv\">This is a div<p>This is a great website for us to prepare</p></div><p class=\"link\">This is a <a href=\"https://prepinstaprime.com\">Link</a> to PrepInsta website</p><p>We wish you <b>All the best</b></p><h2><a href=\"https://prepinsta.com/terms-and-conditions/\">Terms and Conditions</a></h2><h2 class=\"duplicate\"><a href=\"https://prepinsta.com/terms-and-conditions/\">Terms and Conditions</a></h2></body></html>]"
            ]
          },
          "execution_count": 9,
          "metadata": {},
          "output_type": "execute_result"
        }
      ],
      "source": [
        "a_string = data.find(string = \"Terms and Conditions\")\n",
        "\n",
        "a_string.find_parents()"
      ]
    },
    {
      "cell_type": "code",
      "execution_count": null,
      "metadata": {
        "id": "miQ0opHtI8i7",
        "outputId": "093685ad-0e9a-46b3-f145-f4e9f17713b6"
      },
      "outputs": [
        {
          "data": {
            "text/plain": [
              "[<body class=\"myMain\"><h1 class=\"mainHead\">Welcome to PrepInsta</h1><p>New Chapter Begins...</p><p>Lets begin...</p><div id=\"sampleDiv\">This is a div<p>This is a great website for us to prepare</p></div><p class=\"link\">This is a <a href=\"https://prepinstaprime.com\">Link</a> to PrepInsta website</p><p>We wish you <b>All the best</b></p><h2><a href=\"https://prepinsta.com/terms-and-conditions/\">Terms and Conditions</a></h2><h2 class=\"duplicate\"><a href=\"https://prepinsta.com/terms-and-conditions/\">Terms and Conditions</a></h2></body>]"
            ]
          },
          "execution_count": 10,
          "metadata": {},
          "output_type": "execute_result"
        }
      ],
      "source": [
        "a_string = data.find(string = \"Terms and Conditions\")\n",
        "\n",
        "a_string.find_parents('body')"
      ]
    },
    {
      "cell_type": "code",
      "execution_count": null,
      "metadata": {
        "id": "ZCdTrR2SI8i9",
        "outputId": "41a1fa18-9aa6-47de-f874-7c64669080d2"
      },
      "outputs": [
        {
          "data": {
            "text/plain": [
              "<div id=\"sampleDiv\">This is a div<p>This is a great website for us to prepare</p></div>"
            ]
          },
          "execution_count": 11,
          "metadata": {},
          "output_type": "execute_result"
        }
      ],
      "source": [
        "import re\n",
        "a_string = data.find('p', string = re.compile('website'))\n",
        "\n",
        "a_string.find_parent()"
      ]
    },
    {
      "cell_type": "code",
      "execution_count": null,
      "metadata": {
        "id": "9P1nBMrzI8jB",
        "outputId": "beb401c5-0704-434e-eb70-eb54f9a50b7f"
      },
      "outputs": [
        {
          "data": {
            "text/plain": [
              "<body class=\"myMain\"><h1 class=\"mainHead\">Welcome to PrepInsta</h1><p>New Chapter Begins...</p><p>Lets begin...</p><div id=\"sampleDiv\">This is a div<p>This is a great website for us to prepare</p></div><p class=\"link\">This is a <a href=\"https://prepinstaprime.com\">Link</a> to PrepInsta website</p><p>We wish you <b>All the best</b></p><h2><a href=\"https://prepinsta.com/terms-and-conditions/\">Terms and Conditions</a></h2><h2 class=\"duplicate\"><a href=\"https://prepinsta.com/terms-and-conditions/\">Terms and Conditions</a></h2></body>"
            ]
          },
          "execution_count": 16,
          "metadata": {},
          "output_type": "execute_result"
        }
      ],
      "source": [
        "import re\n",
        "a_string = data.find('p', string = re.compile('website'))\n",
        "\n",
        "a_string.find_parent('body')"
      ]
    },
    {
      "cell_type": "code",
      "execution_count": null,
      "metadata": {
        "id": "yiM0Ro-kI8jD",
        "outputId": "8d326f3d-a92f-4585-bc91-7fbe8526e29a"
      },
      "outputs": [
        {
          "data": {
            "text/plain": [
              "<p class=\"link\">This is a <a href=\"https://prepinstaprime.com\">Link</a> to PrepInsta website</p>"
            ]
          },
          "execution_count": 17,
          "metadata": {},
          "output_type": "execute_result"
        }
      ],
      "source": [
        "para = data.find(\"p\", class_ = \"link\")\n",
        "para"
      ]
    },
    {
      "cell_type": "code",
      "execution_count": null,
      "metadata": {
        "id": "SirSUZKVI8jE",
        "outputId": "13377773-2097-47f4-ba22-1c4db9b257ee"
      },
      "outputs": [
        {
          "data": {
            "text/plain": [
              "<body class=\"myMain\"><h1 class=\"mainHead\">Welcome to PrepInsta</h1><p>New Chapter Begins...</p><p>Lets begin...</p><div id=\"sampleDiv\">This is a div<p>This is a great website for us to prepare</p></div><p class=\"link\">This is a <a href=\"https://prepinstaprime.com\">Link</a> to PrepInsta website</p><p>We wish you <b>All the best</b></p><h2><a href=\"https://prepinsta.com/terms-and-conditions/\">Terms and Conditions</a></h2><h2 class=\"duplicate\"><a href=\"https://prepinsta.com/terms-and-conditions/\">Terms and Conditions</a></h2></body>"
            ]
          },
          "execution_count": 18,
          "metadata": {},
          "output_type": "execute_result"
        }
      ],
      "source": [
        "para.find_parent()"
      ]
    },
    {
      "cell_type": "code",
      "execution_count": null,
      "metadata": {
        "id": "RXdfX6e7I8jF",
        "outputId": "48550cb2-7ec9-49b4-cd2f-7422062689ae"
      },
      "outputs": [
        {
          "data": {
            "text/plain": [
              "<div id=\"sampleDiv\">This is a div<p>This is a great website for us to prepare</p></div>"
            ]
          },
          "execution_count": 19,
          "metadata": {},
          "output_type": "execute_result"
        }
      ],
      "source": [
        "para.find_previous_sibling()"
      ]
    },
    {
      "cell_type": "code",
      "execution_count": null,
      "metadata": {
        "id": "gm5mD2RUI8jG",
        "outputId": "c62fda63-755e-4310-f3cb-223b59ba6b2c"
      },
      "outputs": [
        {
          "data": {
            "text/plain": [
              "<p>Lets begin...</p>"
            ]
          },
          "execution_count": 20,
          "metadata": {},
          "output_type": "execute_result"
        }
      ],
      "source": [
        "para.find_previous_sibling('p')"
      ]
    },
    {
      "cell_type": "code",
      "execution_count": null,
      "metadata": {
        "id": "iKsi7HPaI8jH",
        "outputId": "dd6eca34-600b-44b4-ccc0-d0669ccfd8d2"
      },
      "outputs": [
        {
          "data": {
            "text/plain": [
              "[<div id=\"sampleDiv\">This is a div<p>This is a great website for us to prepare</p></div>,\n",
              " <p>Lets begin...</p>,\n",
              " <p>New Chapter Begins...</p>,\n",
              " <h1 class=\"mainHead\">Welcome to PrepInsta</h1>]"
            ]
          },
          "execution_count": 21,
          "metadata": {},
          "output_type": "execute_result"
        }
      ],
      "source": [
        "para.find_previous_siblings()"
      ]
    },
    {
      "cell_type": "code",
      "execution_count": null,
      "metadata": {
        "id": "yW2lT2KZI8jJ",
        "outputId": "4ed92835-51eb-4385-b899-a1733afeed55"
      },
      "outputs": [
        {
          "data": {
            "text/plain": [
              "[<p>Lets begin...</p>, <p>New Chapter Begins...</p>]"
            ]
          },
          "execution_count": 22,
          "metadata": {},
          "output_type": "execute_result"
        }
      ],
      "source": [
        "para.find_previous_siblings('p')"
      ]
    },
    {
      "cell_type": "code",
      "execution_count": null,
      "metadata": {
        "id": "KxiWfJ0PI8jK",
        "outputId": "e97b85c7-6f54-48b2-c725-e3dc71bf0538"
      },
      "outputs": [
        {
          "data": {
            "text/plain": [
              "<p>We wish you <b>All the best</b></p>"
            ]
          },
          "execution_count": 23,
          "metadata": {},
          "output_type": "execute_result"
        }
      ],
      "source": [
        "para.find_next_sibling()"
      ]
    },
    {
      "cell_type": "code",
      "execution_count": null,
      "metadata": {
        "id": "GbAPQEiiI8jL",
        "outputId": "22bc7eb0-e411-4134-9fed-fa4d93268f68"
      },
      "outputs": [
        {
          "data": {
            "text/plain": [
              "[<p>We wish you <b>All the best</b></p>,\n",
              " <h2><a href=\"https://prepinsta.com/terms-and-conditions/\">Terms and Conditions</a></h2>,\n",
              " <h2 class=\"duplicate\"><a href=\"https://prepinsta.com/terms-and-conditions/\">Terms and Conditions</a></h2>]"
            ]
          },
          "execution_count": 24,
          "metadata": {},
          "output_type": "execute_result"
        }
      ],
      "source": [
        "para.find_next_siblings()"
      ]
    },
    {
      "cell_type": "code",
      "execution_count": null,
      "metadata": {
        "id": "GBIKqjCXI8jM",
        "outputId": "3cfd66e1-0fab-4181-db6e-55dec8a01240"
      },
      "outputs": [
        {
          "data": {
            "text/plain": [
              "[<h2><a href=\"https://prepinsta.com/terms-and-conditions/\">Terms and Conditions</a></h2>,\n",
              " <h2 class=\"duplicate\"><a href=\"https://prepinsta.com/terms-and-conditions/\">Terms and Conditions</a></h2>]"
            ]
          },
          "execution_count": 25,
          "metadata": {},
          "output_type": "execute_result"
        }
      ],
      "source": [
        "para.find_next_siblings('h2')"
      ]
    },
    {
      "cell_type": "code",
      "execution_count": null,
      "metadata": {
        "id": "AfOMDVQ3I8jM",
        "outputId": "b97d6950-8808-4c22-f106-cba31feb8c3a"
      },
      "outputs": [
        {
          "data": {
            "text/plain": [
              "[<h2 class=\"duplicate\"><a href=\"https://prepinsta.com/terms-and-conditions/\">Terms and Conditions</a></h2>]"
            ]
          },
          "execution_count": 26,
          "metadata": {},
          "output_type": "execute_result"
        }
      ],
      "source": [
        "para.find_next_siblings('h2', class_ = \"duplicate\")"
      ]
    },
    {
      "cell_type": "code",
      "execution_count": null,
      "metadata": {
        "id": "qPgQ1k2BI8jN"
      },
      "outputs": [],
      "source": []
    }
  ],
  "metadata": {
    "kernelspec": {
      "display_name": "Python 3",
      "language": "python",
      "name": "python3"
    },
    "language_info": {
      "codemirror_mode": {
        "name": "ipython",
        "version": 3
      },
      "file_extension": ".py",
      "mimetype": "text/x-python",
      "name": "python",
      "nbconvert_exporter": "python",
      "pygments_lexer": "ipython3",
      "version": "3.8.5"
    },
    "colab": {
      "provenance": [],
      "include_colab_link": true
    }
  },
  "nbformat": 4,
  "nbformat_minor": 0
}