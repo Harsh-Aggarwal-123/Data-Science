{
  "cells": [
    {
      "cell_type": "markdown",
      "metadata": {
        "id": "view-in-github",
        "colab_type": "text"
      },
      "source": [
        "<a href=\"https://colab.research.google.com/github/Harsh-Aggarwal-123/Data-Science/blob/main/Basics_of_API2_Working_Copy.ipynb\" target=\"_parent\"><img src=\"https://colab.research.google.com/assets/colab-badge.svg\" alt=\"Open In Colab\"/></a>"
      ]
    },
    {
      "cell_type": "code",
      "execution_count": null,
      "id": "d1bd74f7",
      "metadata": {
        "id": "d1bd74f7",
        "outputId": "d28bd204-7eaa-4e90-c0e7-3083c2c4f6a4"
      },
      "outputs": [
        {
          "data": {
            "text/plain": [
              "<Response [200]>"
            ]
          },
          "execution_count": 2,
          "metadata": {},
          "output_type": "execute_result"
        }
      ],
      "source": [
        "#random api gives random user\n",
        "import requests\n",
        "\n",
        "response = requests.get('https://randomuser.me/api/')\n",
        "response"
      ]
    },
    {
      "cell_type": "code",
      "execution_count": null,
      "id": "ad898e47",
      "metadata": {
        "id": "ad898e47",
        "outputId": "ea7315fc-8a11-44a1-c870-0498a82edddf"
      },
      "outputs": [
        {
          "name": "stdout",
          "output_type": "stream",
          "text": [
            "{\"results\":[{\"gender\":\"male\",\"name\":{\"title\":\"Mr\",\"first\":\"Flavio\",\"last\":\"Ureña\"},\"location\":{\"street\":{\"number\":9902,\"name\":\"Continuación Yucatán\"},\"city\":\"Paso Morelos (Cuetlajuchi)\",\"state\":\"Guerrero\",\"country\":\"Mexico\",\"postcode\":88600,\"coordinates\":{\"latitude\":\"23.1543\",\"longitude\":\"-179.7510\"},\"timezone\":{\"offset\":\"-3:30\",\"description\":\"Newfoundland\"}},\"email\":\"flavio.urena@example.com\",\"login\":{\"uuid\":\"5e5f796d-6787-4e46-b157-71a2e267ddf7\",\"username\":\"greenladybug532\",\"password\":\"antony\",\"salt\":\"xEHE4tBR\",\"md5\":\"81858698cf8adf00a7de0b1a5ca3153e\",\"sha1\":\"1530d6a81b8e725d76f2db7b16ae712985efdd7e\",\"sha256\":\"d498d2b4e381c9993012bbc05f3793d293049c0a8517f8916b87bcc95b308c30\"},\"dob\":{\"date\":\"1950-02-22T07:08:41.587Z\",\"age\":72},\"registered\":{\"date\":\"2015-05-07T14:15:37.296Z\",\"age\":7},\"phone\":\"(691) 348 8941\",\"cell\":\"(628) 858 5097\",\"id\":{\"name\":\"NSS\",\"value\":\"42 08 12 5314 9\"},\"picture\":{\"large\":\"https://randomuser.me/api/portraits/men/15.jpg\",\"medium\":\"https://randomuser.me/api/portraits/med/men/15.jpg\",\"thumbnail\":\"https://randomuser.me/api/portraits/thumb/men/15.jpg\"},\"nat\":\"MX\"}],\"info\":{\"seed\":\"4b837d4307b19d70\",\"results\":1,\"page\":1,\"version\":\"1.4\"}}\n"
          ]
        }
      ],
      "source": [
        "print(response.text)"
      ]
    },
    {
      "cell_type": "code",
      "execution_count": null,
      "id": "f99d36b7",
      "metadata": {
        "id": "f99d36b7",
        "outputId": "38b8ab05-2cee-41a3-d680-62484cb34068"
      },
      "outputs": [
        {
          "name": "stdout",
          "output_type": "stream",
          "text": [
            "{\"Emp_ID\": 1}\n",
            "<class 'str'>\n"
          ]
        }
      ],
      "source": [
        "import json\n",
        "\n",
        "sample_json = '{\"Emp_ID\": 1}'\n",
        "\n",
        "print(sample_json)\n",
        "print(type(sample_json))"
      ]
    },
    {
      "cell_type": "code",
      "execution_count": null,
      "id": "7afdfc72",
      "metadata": {
        "id": "7afdfc72",
        "outputId": "49fcac99-e91d-4c1d-dbad-949b0c4f639b"
      },
      "outputs": [
        {
          "name": "stdout",
          "output_type": "stream",
          "text": [
            "{'Emp_ID': 1}\n",
            "<class 'dict'>\n"
          ]
        }
      ],
      "source": [
        "# json load libraryr json into python data\n",
        "python_data = json.loads(sample_json)\n",
        "\n",
        "print(python_data)\n",
        "print(type(python_data))"
      ]
    },
    {
      "cell_type": "code",
      "execution_count": null,
      "id": "f17cbe7f",
      "metadata": {
        "id": "f17cbe7f",
        "outputId": "65252995-cb1b-484f-c813-c33c2d570ffc"
      },
      "outputs": [
        {
          "name": "stdout",
          "output_type": "stream",
          "text": [
            "1\n"
          ]
        }
      ],
      "source": [
        "print(python_data['Emp_ID'])"
      ]
    },
    {
      "cell_type": "code",
      "execution_count": null,
      "id": "2903419d",
      "metadata": {
        "id": "2903419d",
        "outputId": "99c148ad-9354-4a3b-aa13-ff795c23291f"
      },
      "outputs": [
        {
          "name": "stdout",
          "output_type": "stream",
          "text": [
            "<class 'int'>\n"
          ]
        }
      ],
      "source": [
        "print(type(python_data['Emp_ID']))"
      ]
    },
    {
      "cell_type": "code",
      "execution_count": null,
      "id": "80614632",
      "metadata": {
        "id": "80614632",
        "outputId": "da883f29-569e-42db-b2a9-4d24635a186b"
      },
      "outputs": [
        {
          "name": "stdout",
          "output_type": "stream",
          "text": [
            "{'temp': 99.6}\n",
            "<class 'dict'>\n",
            "<class 'float'>\n"
          ]
        }
      ],
      "source": [
        "sample_json = '{\"temp\" : 99.6}'\n",
        "python_data = json.loads(sample_json)\n",
        "print(python_data)\n",
        "print(type(python_data))\n",
        "print(type(python_data['temp']))"
      ]
    },
    {
      "cell_type": "code",
      "execution_count": null,
      "id": "95c9e5d3",
      "metadata": {
        "id": "95c9e5d3",
        "outputId": "f0077479-86a6-4216-d1ce-101cf90f24dd"
      },
      "outputs": [
        {
          "name": "stdout",
          "output_type": "stream",
          "text": [
            "{'Name': 'Atulya'}\n",
            "<class 'dict'>\n",
            "<class 'str'>\n"
          ]
        }
      ],
      "source": [
        "sample_json = '{\"Name\" : \"Atulya\"}'\n",
        "python_data = json.loads(sample_json)\n",
        "print(python_data)\n",
        "print(type(python_data))\n",
        "print(type(python_data['Name']))"
      ]
    },
    {
      "cell_type": "code",
      "execution_count": null,
      "id": "33f0360d",
      "metadata": {
        "id": "33f0360d",
        "outputId": "440c5c46-fadd-4480-8b59-d4f27f0f9c8b"
      },
      "outputs": [
        {
          "name": "stdout",
          "output_type": "stream",
          "text": [
            "{'name': 'Atulya', 'age': 28, 'city': 'New Delhi', 'some_val': None}\n",
            "<class 'dict'>\n",
            "Atulya\n",
            "28\n",
            "New Delhi\n",
            "None\n",
            "<class 'str'>\n",
            "<class 'int'>\n",
            "<class 'str'>\n",
            "<class 'NoneType'>\n"
          ]
        }
      ],
      "source": [
        "json_data =  '{\"name\":\"Atulya\", \"age\":28, \"city\":\"New Delhi\", \"some_val\": null}'\n",
        "python_data = json.loads(json_data)\n",
        "print(python_data)\n",
        "print(type(python_data))\n",
        "print(python_data['name'])\n",
        "print(python_data['age'])\n",
        "print(python_data['city'])\n",
        "print(python_data['some_val'])\n",
        "print(type(python_data['name']))\n",
        "print(type(python_data['age']))\n",
        "print(type(python_data['city']))\n",
        "print(type(python_data['some_val']))"
      ]
    },
    {
      "cell_type": "code",
      "execution_count": null,
      "id": "a4e817e8",
      "metadata": {
        "id": "a4e817e8",
        "outputId": "8cee21d4-dc12-4ae9-e962-27440e209091"
      },
      "outputs": [
        {
          "name": "stdout",
          "output_type": "stream",
          "text": [
            "{'Employee': {'name': 'Atulya', 'age': 28, 'city': 'New Delhi', 'some_val': None}}\n",
            "<class 'dict'>\n",
            "{'name': 'Atulya', 'age': 28, 'city': 'New Delhi', 'some_val': None}\n",
            "<class 'dict'>\n",
            "Atulya\n",
            "28\n",
            "New Delhi\n",
            "None\n"
          ]
        }
      ],
      "source": [
        "json_data_new =  '{\"Employee\":{\"name\":\"Atulya\", \"age\":28, \"city\":\"New Delhi\", \"some_val\": null}}'\n",
        "python_data_new = json.loads(json_data_new)\n",
        "\n",
        "print(python_data_new)\n",
        "print(type(python_data_new))\n",
        "\n",
        "\n",
        "print(python_data_new['Employee'])\n",
        "print(type(python_data_new['Employee']))\n",
        "\n",
        "employee_data = python_data_new['Employee']\n",
        "print(employee_data['name'])\n",
        "print(employee_data['age'])\n",
        "print(employee_data['city'])\n",
        "print(employee_data['some_val'])"
      ]
    },
    {
      "cell_type": "code",
      "execution_count": null,
      "id": "eb3fc5fb",
      "metadata": {
        "id": "eb3fc5fb",
        "outputId": "1278d2eb-faef-4926-e31c-7b87ab0e9952"
      },
      "outputs": [
        {
          "name": "stdout",
          "output_type": "stream",
          "text": [
            "{\"Cars\": [\"Volvo\", \"Audi\", \"McLaren\", \"Hyundai\"]}\n",
            "<class 'str'>\n",
            "{'Cars': ['Volvo', 'Audi', 'McLaren', 'Hyundai']}\n",
            "<class 'dict'>\n",
            "['Volvo', 'Audi', 'McLaren', 'Hyundai']\n",
            "<class 'list'>\n",
            "Volvo\n",
            "Audi\n",
            "McLaren\n",
            "Hyundai\n"
          ]
        }
      ],
      "source": [
        "another_json_data = '{\"Cars\": [\"Volvo\", \"Audi\", \"McLaren\", \"Hyundai\"]}'\n",
        "\n",
        "print(another_json_data)\n",
        "print(type(another_json_data))\n",
        "\n",
        "another_python_data = json.loads(another_json_data)\n",
        "print(another_python_data)\n",
        "print(type(another_python_data))\n",
        "\n",
        "\n",
        "print(another_python_data['Cars'])\n",
        "print(type(another_python_data['Cars']))\n",
        "\n",
        "mylist = another_python_data['Cars']\n",
        "\n",
        "for item in mylist:\n",
        "    print(item)"
      ]
    },
    {
      "cell_type": "code",
      "execution_count": null,
      "id": "dd3a8f3b",
      "metadata": {
        "id": "dd3a8f3b"
      },
      "outputs": [],
      "source": [
        "# https://apipheny.io/free-api/"
      ]
    },
    {
      "cell_type": "code",
      "execution_count": null,
      "id": "daa3729a",
      "metadata": {
        "id": "daa3729a"
      },
      "outputs": [],
      "source": [
        "# http://universities.hipolabs.com/search?country=United+States"
      ]
    },
    {
      "cell_type": "code",
      "execution_count": null,
      "id": "bc8ecf4b",
      "metadata": {
        "id": "bc8ecf4b"
      },
      "outputs": [],
      "source": [
        "# https://randomuser.me/api/"
      ]
    }
  ],
  "metadata": {
    "kernelspec": {
      "display_name": "Python 3 (ipykernel)",
      "language": "python",
      "name": "python3"
    },
    "language_info": {
      "codemirror_mode": {
        "name": "ipython",
        "version": 3
      },
      "file_extension": ".py",
      "mimetype": "text/x-python",
      "name": "python",
      "nbconvert_exporter": "python",
      "pygments_lexer": "ipython3",
      "version": "3.8.10"
    },
    "colab": {
      "provenance": [],
      "include_colab_link": true
    }
  },
  "nbformat": 4,
  "nbformat_minor": 5
}