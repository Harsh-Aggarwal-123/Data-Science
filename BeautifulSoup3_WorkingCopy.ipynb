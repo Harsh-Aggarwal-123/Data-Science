{
  "cells": [
    {
      "cell_type": "markdown",
      "metadata": {
        "id": "view-in-github",
        "colab_type": "text"
      },
      "source": [
        "<a href=\"https://colab.research.google.com/github/Harsh-Aggarwal-123/Data-Science/blob/main/BeautifulSoup3_WorkingCopy.ipynb\" target=\"_parent\"><img src=\"https://colab.research.google.com/assets/colab-badge.svg\" alt=\"Open In Colab\"/></a>"
      ]
    },
    {
      "cell_type": "code",
      "execution_count": null,
      "metadata": {
        "id": "iWGrj7YtIXar"
      },
      "outputs": [],
      "source": [
        "html = '<!DOCTYPE html>\\\n",
        "<html>\\\n",
        "<head>\\\n",
        "<title>PrepInsta Website</title>\\\n",
        "</head>\\\n",
        "<body>\\\n",
        "<h1 class=\"mainHead\">Welcome to PrepInsta</h1>\\\n",
        "<p>This is a great website for us to prepare</p>\\\n",
        "<p class=\"link\">This is a <a href=\"https://prepinstaprime.com\">Link</a> to PrepInsta website</p>\\\n",
        "<p>We wish you <b>All the best</b></p>\\\n",
        "<h2><a href=\"https://prepinsta.com/terms-and-conditions/\">Terms and Conditions</a></h2>\\\n",
        "</body>\\\n",
        "</html>'"
      ]
    },
    {
      "cell_type": "code",
      "execution_count": null,
      "metadata": {
        "id": "b8-dtNxhIXau",
        "outputId": "e77b5f8c-3ef5-410f-fbd7-568aac4b43a8"
      },
      "outputs": [
        {
          "name": "stdout",
          "output_type": "stream",
          "text": [
            "<!DOCTYPE html>\n",
            "<html>\n",
            " <head>\n",
            "  <title>\n",
            "   PrepInsta Website\n",
            "  </title>\n",
            " </head>\n",
            " <body>\n",
            "  <h1 class=\"mainHead\">\n",
            "   Welcome to PrepInsta\n",
            "  </h1>\n",
            "  <p>\n",
            "   This is a great website for us to prepare\n",
            "  </p>\n",
            "  <p class=\"link\">\n",
            "   This is a\n",
            "   <a href=\"https://prepinstaprime.com\">\n",
            "    Link\n",
            "   </a>\n",
            "   to PrepInsta website\n",
            "  </p>\n",
            "  <p>\n",
            "   We wish you\n",
            "   <b>\n",
            "    All the best\n",
            "   </b>\n",
            "  </p>\n",
            "  <h2>\n",
            "   <a href=\"https://prepinsta.com/terms-and-conditions/\">\n",
            "    Terms and Conditions\n",
            "   </a>\n",
            "  </h2>\n",
            " </body>\n",
            "</html>\n"
          ]
        }
      ],
      "source": [
        "from bs4 import BeautifulSoup\n",
        "data = BeautifulSoup(html, 'html.parser')\n",
        "print(data.prettify())"
      ]
    },
    {
      "cell_type": "code",
      "execution_count": null,
      "metadata": {
        "id": "Yc-J4zy3IXaw",
        "outputId": "e6f58bcd-3345-4c15-edf6-6cbb2cc044ca"
      },
      "outputs": [
        {
          "data": {
            "text/plain": [
              "<a href=\"https://prepinstaprime.com\">Link</a>"
            ]
          },
          "execution_count": 7,
          "metadata": {},
          "output_type": "execute_result"
        }
      ],
      "source": [
        "data.a"
      ]
    },
    {
      "cell_type": "code",
      "execution_count": null,
      "metadata": {
        "id": "x3RxYqOBIXax",
        "outputId": "42da8cd4-1ca3-44fa-fb6e-247b0e280f95"
      },
      "outputs": [
        {
          "data": {
            "text/plain": [
              "<a href=\"https://prepinsta.com/terms-and-conditions/\">Terms and Conditions</a>"
            ]
          },
          "execution_count": 11,
          "metadata": {},
          "output_type": "execute_result"
        }
      ],
      "source": [
        "#exact match\n",
        "data.h2.a"
      ]
    },
    {
      "cell_type": "code",
      "execution_count": null,
      "metadata": {
        "id": "dYppTNxbIXa0",
        "outputId": "42fb7a91-609d-4199-e651-5db7128793cf"
      },
      "outputs": [
        {
          "data": {
            "text/plain": [
              "<a href=\"https://prepinsta.com/terms-and-conditions/\">Terms and Conditions</a>"
            ]
          },
          "execution_count": 12,
          "metadata": {},
          "output_type": "execute_result"
        }
      ],
      "source": [
        "data.body.h2.a"
      ]
    },
    {
      "cell_type": "code",
      "execution_count": null,
      "metadata": {
        "id": "Rrif-mUcIXa0",
        "outputId": "e36250f3-56b2-435e-841c-9cf3b2b99e43"
      },
      "outputs": [
        {
          "data": {
            "text/plain": [
              "'Terms and Conditions'"
            ]
          },
          "execution_count": 14,
          "metadata": {},
          "output_type": "execute_result"
        }
      ],
      "source": [
        "data.body.h2.a.string"
      ]
    },
    {
      "cell_type": "code",
      "execution_count": null,
      "metadata": {
        "id": "C8Z8I10HIXa1",
        "outputId": "066ea379-512b-4be3-c11c-6c792a680dd4"
      },
      "outputs": [
        {
          "name": "stdout",
          "output_type": "stream",
          "text": [
            "<p>This is a great website for us to prepare</p>\n",
            "<p class=\"link\">This is a <a href=\"https://prepinstaprime.com\">Link</a> to PrepInsta website</p>\n",
            "<p>We wish you <b>All the best</b></p>\n"
          ]
        }
      ],
      "source": [
        "p_list = data.find_all('p')\n",
        "\n",
        "for item in p_list:\n",
        "    print(item)"
      ]
    },
    {
      "cell_type": "code",
      "execution_count": null,
      "metadata": {
        "id": "dKdkONVKIXa2",
        "outputId": "8049fab6-3b89-4048-e77d-515e0bfd4550"
      },
      "outputs": [
        {
          "name": "stdout",
          "output_type": "stream",
          "text": [
            "This is a great website for us to prepare\n",
            "None\n",
            "None\n"
          ]
        }
      ],
      "source": [
        "p_list = data.find_all('p')\n",
        "\n",
        "for item in p_list:\n",
        "    print(item.string)"
      ]
    },
    {
      "cell_type": "code",
      "execution_count": null,
      "metadata": {
        "id": "9nnllPAyIXa2",
        "outputId": "8d870fae-3468-4929-f18b-7c1966014745"
      },
      "outputs": [
        {
          "name": "stdout",
          "output_type": "stream",
          "text": [
            "['This is a great website for us to prepare']\n",
            "['This is a', 'Link', 'to PrepInsta website']\n",
            "['We wish you', 'All the best']\n"
          ]
        }
      ],
      "source": [
        "p_list = data.find_all('p')\n",
        "\n",
        "for item in p_list:\n",
        "    print(list(item.stripped_strings))"
      ]
    },
    {
      "cell_type": "code",
      "execution_count": null,
      "metadata": {
        "id": "H7vxICTlIXa3",
        "outputId": "ab2e8789-14c4-44ba-ddac-dae1ef116a88"
      },
      "outputs": [
        {
          "name": "stdout",
          "output_type": "stream",
          "text": [
            "{'p', 'html', 'b', 'body', 'head', 'title', 'h2', 'a', 'h1'}\n",
            "9\n"
          ]
        }
      ],
      "source": [
        "all_data_list = data.find_all(True)\n",
        "\n",
        "tag_list = set()\n",
        "\n",
        "for tag_data in all_data_list:\n",
        "    if tag_data.name not in tag_list:\n",
        "        tag_list.add(tag_data.name)\n",
        "\n",
        "print(tag_list)\n",
        "print(len(tag_list))"
      ]
    },
    {
      "cell_type": "code",
      "execution_count": null,
      "metadata": {
        "id": "l_YrcRs0IXa4",
        "outputId": "375c6c75-a1f7-49c5-cc93-33d92cfe05bd"
      },
      "outputs": [
        {
          "name": "stdout",
          "output_type": "stream",
          "text": [
            "<head><title>PrepInsta Website</title></head>\n",
            "<body><h1 class=\"mainHead\">Welcome to PrepInsta</h1><p>This is a great website for us to prepare</p><p class=\"link\">This is a <a href=\"https://prepinstaprime.com\">Link</a> to PrepInsta website</p><p>We wish you <b>All the best</b></p><h2><a href=\"https://prepinsta.com/terms-and-conditions/\">Terms and Conditions</a></h2></body>\n",
            "2\n"
          ]
        }
      ],
      "source": [
        "contents = data.html.contents\n",
        "\n",
        "for content in contents:\n",
        "    print(content)\n",
        "    \n",
        "print(len(contents))"
      ]
    },
    {
      "cell_type": "code",
      "execution_count": null,
      "metadata": {
        "id": "a5yWMj8TIXa5",
        "outputId": "fe4f4a52-eb09-491d-bb58-3d78fef3a278"
      },
      "outputs": [
        {
          "name": "stdout",
          "output_type": "stream",
          "text": [
            "<head><title>PrepInsta Website</title></head>\n",
            "<body><h1 class=\"mainHead\">Welcome to PrepInsta</h1><p>This is a great website for us to prepare</p><p class=\"link\">This is a <a href=\"https://prepinstaprime.com\">Link</a> to PrepInsta website</p><p>We wish you <b>All the best</b></p><h2><a href=\"https://prepinsta.com/terms-and-conditions/\">Terms and Conditions</a></h2></body>\n"
          ]
        }
      ],
      "source": [
        "# contents gets an iterator for the list and for child in title_tag. \n",
        "# children uses the iterator its been handed\n",
        "# difference between contents and children\n",
        "children = data.html.children\n",
        "\n",
        "for child in children:\n",
        "    print(child)"
      ]
    },
    {
      "cell_type": "code",
      "execution_count": null,
      "metadata": {
        "id": "nPxqq1CsIXa6",
        "outputId": "100eb935-1b90-4c6b-e96a-0ed000b7f770"
      },
      "outputs": [
        {
          "name": "stdout",
          "output_type": "stream",
          "text": [
            "<h1 class=\"mainHead\">Welcome to PrepInsta</h1>\n",
            "<p>This is a great website for us to prepare</p>\n",
            "<p class=\"link\">This is a <a href=\"https://prepinstaprime.com\">Link</a> to PrepInsta website</p>\n",
            "<p>We wish you <b>All the best</b></p>\n",
            "<h2><a href=\"https://prepinsta.com/terms-and-conditions/\">Terms and Conditions</a></h2>\n",
            "5\n"
          ]
        }
      ],
      "source": [
        "children = data.body.children\n",
        "\n",
        "for child in children:\n",
        "    print(child)\n",
        "    \n",
        "print(len(list(data.body.children)))"
      ]
    },
    {
      "cell_type": "code",
      "execution_count": null,
      "metadata": {
        "id": "ovHemcQWIXa7",
        "outputId": "1db5e32a-d88f-49f1-ecc9-0bf4656f6e7b"
      },
      "outputs": [
        {
          "data": {
            "text/plain": [
              "<generator object Tag.descendants at 0x7fefdbf68f20>"
            ]
          },
          "execution_count": 30,
          "metadata": {},
          "output_type": "execute_result"
        }
      ],
      "source": [
        "data.body.descendants"
      ]
    },
    {
      "cell_type": "code",
      "execution_count": null,
      "metadata": {
        "id": "jAhBhf0dIXa7",
        "outputId": "8ed3b932-661d-48e1-8d3f-72305c5e7579"
      },
      "outputs": [
        {
          "name": "stdout",
          "output_type": "stream",
          "text": [
            "<h1 class=\"mainHead\">Welcome to PrepInsta</h1>\n",
            "---------\n",
            "Welcome to PrepInsta\n",
            "---------\n",
            "<p>This is a great website for us to prepare</p>\n",
            "---------\n",
            "This is a great website for us to prepare\n",
            "---------\n",
            "<p class=\"link\">This is a <a href=\"https://prepinstaprime.com\">Link</a> to PrepInsta website</p>\n",
            "---------\n",
            "This is a \n",
            "---------\n",
            "<a href=\"https://prepinstaprime.com\">Link</a>\n",
            "---------\n",
            "Link\n",
            "---------\n",
            " to PrepInsta website\n",
            "---------\n",
            "<p>We wish you <b>All the best</b></p>\n",
            "---------\n",
            "We wish you \n",
            "---------\n",
            "<b>All the best</b>\n",
            "---------\n",
            "All the best\n",
            "---------\n",
            "<h2><a href=\"https://prepinsta.com/terms-and-conditions/\">Terms and Conditions</a></h2>\n",
            "---------\n",
            "<a href=\"https://prepinsta.com/terms-and-conditions/\">Terms and Conditions</a>\n",
            "---------\n",
            "Terms and Conditions\n",
            "---------\n",
            "16\n"
          ]
        }
      ],
      "source": [
        "descendants_list = list(data.body.descendants)\n",
        "\n",
        "for descendant in descendants_list:\n",
        "    print(descendant)\n",
        "    print(\"---------\")\n",
        "    \n",
        "print(len(descendants_list))"
      ]
    },
    {
      "cell_type": "code",
      "execution_count": null,
      "metadata": {
        "id": "CXW-iwFoIXa8",
        "outputId": "990ee239-fe39-423d-e5be-4958db61abc3"
      },
      "outputs": [
        {
          "data": {
            "text/plain": [
              "[<h1 class=\"mainHead\">Welcome to PrepInsta</h1>,\n",
              " 'Welcome to PrepInsta',\n",
              " <p>This is a great website for us to prepare</p>,\n",
              " 'This is a great website for us to prepare',\n",
              " <p class=\"link\">This is a <a href=\"https://prepinstaprime.com\">Link</a> to PrepInsta website</p>,\n",
              " 'This is a ',\n",
              " <a href=\"https://prepinstaprime.com\">Link</a>,\n",
              " 'Link',\n",
              " ' to PrepInsta website',\n",
              " <p>We wish you <b>All the best</b></p>,\n",
              " 'We wish you ',\n",
              " <b>All the best</b>,\n",
              " 'All the best',\n",
              " <h2><a href=\"https://prepinsta.com/terms-and-conditions/\">Terms and Conditions</a></h2>,\n",
              " <a href=\"https://prepinsta.com/terms-and-conditions/\">Terms and Conditions</a>,\n",
              " 'Terms and Conditions']"
            ]
          },
          "execution_count": 34,
          "metadata": {},
          "output_type": "execute_result"
        }
      ],
      "source": [
        "descendants_list"
      ]
    },
    {
      "cell_type": "code",
      "execution_count": null,
      "metadata": {
        "id": "nl2xZhjOIXa8",
        "outputId": "33d743ce-4b88-488a-d500-e51c9a294ad1"
      },
      "outputs": [
        {
          "data": {
            "text/plain": [
              "<html><head><title>PrepInsta Website</title></head><body><h1 class=\"mainHead\">Welcome to PrepInsta</h1><p>This is a great website for us to prepare</p><p class=\"link\">This is a <a href=\"https://prepinstaprime.com\">Link</a> to PrepInsta website</p><p>We wish you <b>All the best</b></p><h2><a href=\"https://prepinsta.com/terms-and-conditions/\">Terms and Conditions</a></h2></body></html>"
            ]
          },
          "execution_count": 36,
          "metadata": {},
          "output_type": "execute_result"
        }
      ],
      "source": [
        "parent = data.body.parent\n",
        "parent"
      ]
    },
    {
      "cell_type": "code",
      "execution_count": null,
      "metadata": {
        "id": "QWsc3iTuIXa9",
        "outputId": "db60565d-81b8-4144-dc6b-c69465dbd76e"
      },
      "outputs": [
        {
          "data": {
            "text/plain": [
              "<p>We wish you <b>All the best</b></p>"
            ]
          },
          "execution_count": 38,
          "metadata": {},
          "output_type": "execute_result"
        }
      ],
      "source": [
        "parent = data.p.parent\n",
        "parent"
      ]
    },
    {
      "cell_type": "code",
      "execution_count": null,
      "metadata": {
        "id": "uW7BNn_WIXa9",
        "outputId": "343641ff-8010-4433-f25e-091e8ccb1943"
      },
      "outputs": [
        {
          "data": {
            "text/plain": [
              "<p>We wish you <b>All the best</b></p>"
            ]
          },
          "execution_count": 39,
          "metadata": {},
          "output_type": "execute_result"
        }
      ],
      "source": [
        "parent = data.b.parent\n",
        "parent"
      ]
    },
    {
      "cell_type": "code",
      "execution_count": null,
      "metadata": {
        "id": "x-9fttzxIXa-"
      },
      "outputs": [],
      "source": []
    },
    {
      "cell_type": "code",
      "execution_count": null,
      "metadata": {
        "id": "OICZleQjIXa-"
      },
      "outputs": [],
      "source": []
    }
  ],
  "metadata": {
    "kernelspec": {
      "display_name": "Python 3",
      "language": "python",
      "name": "python3"
    },
    "language_info": {
      "codemirror_mode": {
        "name": "ipython",
        "version": 3
      },
      "file_extension": ".py",
      "mimetype": "text/x-python",
      "name": "python",
      "nbconvert_exporter": "python",
      "pygments_lexer": "ipython3",
      "version": "3.8.5"
    },
    "colab": {
      "provenance": [],
      "include_colab_link": true
    }
  },
  "nbformat": 4,
  "nbformat_minor": 0
}