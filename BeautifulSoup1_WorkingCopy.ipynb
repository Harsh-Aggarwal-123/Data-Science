{
  "cells": [
    {
      "cell_type": "markdown",
      "metadata": {
        "id": "view-in-github",
        "colab_type": "text"
      },
      "source": [
        "<a href=\"https://colab.research.google.com/github/Harsh-Aggarwal-123/Data-Science/blob/main/BeautifulSoup1_WorkingCopy.ipynb\" target=\"_parent\"><img src=\"https://colab.research.google.com/assets/colab-badge.svg\" alt=\"Open In Colab\"/></a>"
      ]
    },
    {
      "cell_type": "code",
      "execution_count": null,
      "metadata": {
        "id": "M81bmVpqIxLk"
      },
      "outputs": [],
      "source": [
        "html = '<!DOCTYPE html>\\\n",
        "<html>\\\n",
        "<head>\\\n",
        "    <title>PrepInsta Website</title>\\\n",
        "</head>\\\n",
        "<body>\\\n",
        "    <h1 class=\"mainHead\">Welcome to PrepInsta</h1>\\\n",
        "    <p>This is a great website for us to prepare</p>\\\n",
        "    <h2 class=\"features\">Overview</h2>\\\n",
        "    <p id=\"overview-text\">What can you do on PrepInsta Website-</p>\\\n",
        "    <p class=\"features\">You can Learn Skills</p>\\\n",
        "    <p class=\"features\">You can Learn Coding</p>\\\n",
        "    <p class=\"features\">You can Learn Languages</p>\\\n",
        "    <p class=\"features\" id = \"Apti\">You can Learn Aptitiude</p>\\\n",
        "    <p class=\"features certification\">You can get Certifications</p>\\\n",
        "    <h2>Certifications</h2>\\\n",
        "    <p class=\"features job\">You can get a High Paying Job</p>\\\n",
        "    <p class=\"features\" id=\"special-text\">PrepInsta offers you the opportunity to learn without limits all the Upskilling Courses, Placement Preparation &  Certification Courses with Single Subscription</p>\\\n",
        "    <a id=\"linkweb\" href=\"https://www.PrepInstaPrime.com\">Visit PrepInstaPrime.com!</a>\\\n",
        "    <a href=\"https://prepinstaprime.com/purchase\">Purchase Prime</a>\\\n",
        "    <a href=\"http://prepinstaprime.com/syllabus/tcs-nqt-syllabus\">TCS NQT Course</a>\\\n",
        "    <a href=\"http://prepinstaprime.com/syllabus/machine-learning-and-aritifical-intelligence-syllabus\">ML Course</a>\\\n",
        "</body>\\\n",
        "</html>'"
      ]
    },
    {
      "cell_type": "code",
      "execution_count": null,
      "metadata": {
        "id": "1ubou9v1IxLs"
      },
      "outputs": [],
      "source": [
        "from bs4 import BeautifulSoup"
      ]
    },
    {
      "cell_type": "code",
      "execution_count": null,
      "metadata": {
        "id": "jBM8hpfNIxLt",
        "outputId": "af984675-cef3-47de-cc68-4de69dcb0e32"
      },
      "outputs": [
        {
          "data": {
            "text/plain": [
              "<!DOCTYPE html>\n",
              "<html><head> <title>PrepInsta Website</title></head><body> <h1 class=\"mainHead\">Welcome to PrepInsta</h1> <p>This is a great website for us to prepare</p> <h2 class=\"features\">Overview</h2> <p id=\"overview-text\">What can you do on PrepInsta Website-</p> <p class=\"features\">You can Learn Skills</p> <p class=\"features\">You can Learn Coding</p> <p class=\"features\">You can Learn Languages</p> <p class=\"features\" id=\"Apti\">You can Learn Aptitiude</p> <p class=\"features certification\">You can get Certifications</p> <h2>Certifications</h2> <p class=\"features job\">You can get a High Paying Job</p> <p class=\"features\" id=\"special-text\">PrepInsta offers you the opportunity to learn without limits all the Upskilling Courses, Placement Preparation &amp;  Certification Courses with Single Subscription</p> <a href=\"https://www.PrepInstaPrime.com\" id=\"linkweb\">Visit PrepInstaPrime.com!</a> <a href=\"https://prepinstaprime.com/purchase\">Purchase Prime</a> <a href=\"http://prepinstaprime.com/syllabus/tcs-nqt-syllabus\">TCS NQT Course</a> <a href=\"http://prepinstaprime.com/syllabus/machine-learning-and-aritifical-intelligence-syllabus\">ML Course</a></body></html>"
            ]
          },
          "execution_count": 14,
          "metadata": {},
          "output_type": "execute_result"
        }
      ],
      "source": [
        "# The HTML parser is a structured markup processing tool. It defines a \n",
        "# class called HTMLParser, which is used to parse HTML files. \n",
        "# It comes in handy for web crawling.\n",
        "data = BeautifulSoup(html, 'html.parser')\n",
        "data\n",
        "# print(data)\n",
        "# print(type(data))"
      ]
    },
    {
      "cell_type": "code",
      "execution_count": null,
      "metadata": {
        "id": "XZSexMN6IxLv",
        "outputId": "48c99c22-3b60-4f3f-cb0e-2f5c36bd0be2"
      },
      "outputs": [
        {
          "name": "stdout",
          "output_type": "stream",
          "text": [
            "<!DOCTYPE html>\n",
            "<html>\n",
            " <head>\n",
            "  <title>\n",
            "   PrepInsta Website\n",
            "  </title>\n",
            " </head>\n",
            " <body>\n",
            "  <h1 class=\"mainHead\">\n",
            "   Welcome to PrepInsta\n",
            "  </h1>\n",
            "  <p>\n",
            "   This is a great website for us to prepare\n",
            "  </p>\n",
            "  <h2 class=\"features\">\n",
            "   Overview\n",
            "  </h2>\n",
            "  <p id=\"overview-text\">\n",
            "   What can you do on PrepInsta Website-\n",
            "  </p>\n",
            "  <p class=\"features\">\n",
            "   You can Learn Skills\n",
            "  </p>\n",
            "  <p class=\"features\">\n",
            "   You can Learn Coding\n",
            "  </p>\n",
            "  <p class=\"features\">\n",
            "   You can Learn Languages\n",
            "  </p>\n",
            "  <p class=\"features\" id=\"Apti\">\n",
            "   You can Learn Aptitiude\n",
            "  </p>\n",
            "  <p class=\"features certification\">\n",
            "   You can get Certifications\n",
            "  </p>\n",
            "  <h2>\n",
            "   Certifications\n",
            "  </h2>\n",
            "  <p class=\"features job\">\n",
            "   You can get a High Paying Job\n",
            "  </p>\n",
            "  <p class=\"features\" id=\"special-text\">\n",
            "   PrepInsta offers you the opportunity to learn without limits all the Upskilling Courses, Placement Preparation &amp;  Certification Courses with Single Subscription\n",
            "  </p>\n",
            "  <a href=\"https://www.PrepInstaPrime.com\" id=\"linkweb\">\n",
            "   Visit PrepInstaPrime.com!\n",
            "  </a>\n",
            "  <a href=\"https://prepinstaprime.com/purchase\">\n",
            "   Purchase Prime\n",
            "  </a>\n",
            "  <a href=\"http://prepinstaprime.com/syllabus/tcs-nqt-syllabus\">\n",
            "   TCS NQT Course\n",
            "  </a>\n",
            "  <a href=\"http://prepinstaprime.com/syllabus/machine-learning-and-aritifical-intelligence-syllabus\">\n",
            "   ML Course\n",
            "  </a>\n",
            " </body>\n",
            "</html>\n"
          ]
        }
      ],
      "source": [
        "print(data.prettify())"
      ]
    },
    {
      "cell_type": "code",
      "execution_count": null,
      "metadata": {
        "id": "9FW13IczIxLw",
        "outputId": "7646e307-fb44-4288-cbe7-f6f9ae5db331"
      },
      "outputs": [
        {
          "data": {
            "text/plain": [
              "<html><head> <title>PrepInsta Website</title></head><body> <h1 class=\"mainHead\">Welcome to PrepInsta</h1> <p>This is a great website for us to prepare</p> <h2 class=\"features\">Overview</h2> <p id=\"overview-text\">What can you do on PrepInsta Website-</p> <p class=\"features\">You can Learn Skills</p> <p class=\"features\">You can Learn Coding</p> <p class=\"features\">You can Learn Languages</p> <p class=\"features\" id=\"Apti\">You can Learn Aptitiude</p> <p class=\"features certification\">You can get Certifications</p> <h2>Certifications</h2> <p class=\"features job\">You can get a High Paying Job</p> <p class=\"features\" id=\"special-text\">PrepInsta offers you the opportunity to learn without limits all the Upskilling Courses, Placement Preparation &amp;  Certification Courses with Single Subscription</p> <a href=\"https://www.PrepInstaPrime.com\" id=\"linkweb\">Visit PrepInstaPrime.com!</a> <a href=\"https://prepinstaprime.com/purchase\">Purchase Prime</a> <a href=\"http://prepinstaprime.com/syllabus/tcs-nqt-syllabus\">TCS NQT Course</a> <a href=\"http://prepinstaprime.com/syllabus/machine-learning-and-aritifical-intelligence-syllabus\">ML Course</a></body></html>"
            ]
          },
          "execution_count": 18,
          "metadata": {},
          "output_type": "execute_result"
        }
      ],
      "source": [
        "data.html"
      ]
    },
    {
      "cell_type": "code",
      "execution_count": null,
      "metadata": {
        "id": "UiJB-VdyIxLx",
        "outputId": "8e9d5700-3abb-495d-f366-449584e2c9b1"
      },
      "outputs": [
        {
          "data": {
            "text/plain": [
              "<head> <title>PrepInsta Website</title></head>"
            ]
          },
          "execution_count": 19,
          "metadata": {},
          "output_type": "execute_result"
        }
      ],
      "source": [
        "data.head"
      ]
    },
    {
      "cell_type": "code",
      "execution_count": null,
      "metadata": {
        "id": "oO8FfdWdIxLy",
        "outputId": "90a085f3-45a5-4aae-96aa-347744888121"
      },
      "outputs": [
        {
          "data": {
            "text/plain": [
              "<title>PrepInsta Website</title>"
            ]
          },
          "execution_count": 23,
          "metadata": {},
          "output_type": "execute_result"
        }
      ],
      "source": [
        "#following exact hierarchy\n",
        "data.html.head.title"
      ]
    },
    {
      "cell_type": "code",
      "execution_count": null,
      "metadata": {
        "id": "PPe654sqIxLz",
        "outputId": "c8d2c0a4-9a43-4712-ddd7-0e7629c0e440"
      },
      "outputs": [
        {
          "data": {
            "text/plain": [
              "<title>PrepInsta Website</title>"
            ]
          },
          "execution_count": 22,
          "metadata": {},
          "output_type": "execute_result"
        }
      ],
      "source": [
        "#returns the direct tag data\n",
        "data.title"
      ]
    },
    {
      "cell_type": "code",
      "execution_count": null,
      "metadata": {
        "id": "YGfrpIDCIxL0",
        "outputId": "e4940f96-96a7-4079-bcee-625a09be6a66"
      },
      "outputs": [
        {
          "data": {
            "text/plain": [
              "<h1 class=\"mainHead\">Welcome to PrepInsta</h1>"
            ]
          },
          "execution_count": 24,
          "metadata": {},
          "output_type": "execute_result"
        }
      ],
      "source": [
        "data.h1"
      ]
    },
    {
      "cell_type": "code",
      "execution_count": null,
      "metadata": {
        "id": "v0SicUR8IxL2",
        "outputId": "3f3e49c5-8744-4e00-f4b2-8dd771862701"
      },
      "outputs": [
        {
          "data": {
            "text/plain": [
              "<h2 class=\"features\">Overview</h2>"
            ]
          },
          "execution_count": 25,
          "metadata": {},
          "output_type": "execute_result"
        }
      ],
      "source": [
        "data.h2"
      ]
    },
    {
      "cell_type": "code",
      "execution_count": null,
      "metadata": {
        "id": "KP9EdCmmIxL3",
        "outputId": "dd625c64-0432-4e58-99fc-7b30f58cb28a"
      },
      "outputs": [
        {
          "data": {
            "text/plain": [
              "<p>This is a great website for us to prepare</p>"
            ]
          },
          "execution_count": 26,
          "metadata": {},
          "output_type": "execute_result"
        }
      ],
      "source": [
        "data.p"
      ]
    },
    {
      "cell_type": "code",
      "execution_count": null,
      "metadata": {
        "id": "KmIqJsOOIxL4",
        "outputId": "f7897532-f97e-404e-d207-14315f8005c0"
      },
      "outputs": [
        {
          "data": {
            "text/plain": [
              "<a href=\"https://www.PrepInstaPrime.com\" id=\"linkweb\">Visit PrepInstaPrime.com!</a>"
            ]
          },
          "execution_count": 27,
          "metadata": {},
          "output_type": "execute_result"
        }
      ],
      "source": [
        "data.a"
      ]
    },
    {
      "cell_type": "code",
      "execution_count": null,
      "metadata": {
        "id": "ZTUABSOKIxL5",
        "outputId": "5c42ebe4-6ad2-4abf-9091-89f4baadb6ae"
      },
      "outputs": [
        {
          "data": {
            "text/plain": [
              "<p>This is a great website for us to prepare</p>"
            ]
          },
          "execution_count": 28,
          "metadata": {},
          "output_type": "execute_result"
        }
      ],
      "source": [
        "data.p"
      ]
    },
    {
      "cell_type": "code",
      "execution_count": null,
      "metadata": {
        "id": "zUc0YH4kIxL6",
        "outputId": "23befc4a-9e82-43ac-e657-1a87566daa68"
      },
      "outputs": [
        {
          "data": {
            "text/plain": [
              "'title'"
            ]
          },
          "execution_count": 30,
          "metadata": {},
          "output_type": "execute_result"
        }
      ],
      "source": [
        "#returns the name of tag\n",
        "data.title.name"
      ]
    },
    {
      "cell_type": "code",
      "execution_count": null,
      "metadata": {
        "id": "S_3jPoyEIxL7",
        "outputId": "040a33ef-1eb6-4211-b0b6-88b2d7c87c45"
      },
      "outputs": [
        {
          "data": {
            "text/plain": [
              "'PrepInsta Website'"
            ]
          },
          "execution_count": 31,
          "metadata": {},
          "output_type": "execute_result"
        }
      ],
      "source": [
        "#we have .name, .string, .attr (Has get method and dict access)\n",
        "data.title.string"
      ]
    },
    {
      "cell_type": "code",
      "execution_count": null,
      "metadata": {
        "id": "s4bjf-ZaIxL8",
        "outputId": "0c2b2364-1441-4a02-c155-0db706b83b42"
      },
      "outputs": [
        {
          "name": "stdout",
          "output_type": "stream",
          "text": [
            "<h1 class=\"mainHead\">Welcome to PrepInsta</h1>\n",
            "h1\n",
            "Welcome to PrepInsta\n"
          ]
        }
      ],
      "source": [
        "print(data.h1)\n",
        "print(data.h1.name)\n",
        "print(data.h1.string)"
      ]
    },
    {
      "cell_type": "code",
      "execution_count": null,
      "metadata": {
        "id": "-YyvV00lIxL8"
      },
      "outputs": [],
      "source": [
        "data.h5"
      ]
    },
    {
      "cell_type": "code",
      "execution_count": null,
      "metadata": {
        "id": "qIof3x8HIxL9",
        "outputId": "21bcac26-73b2-4944-8f2e-b5d0d76dd8e1"
      },
      "outputs": [
        {
          "data": {
            "text/plain": [
              "{'class': ['mainHead']}"
            ]
          },
          "execution_count": 36,
          "metadata": {},
          "output_type": "execute_result"
        }
      ],
      "source": [
        "data.h1.attrs"
      ]
    },
    {
      "cell_type": "code",
      "execution_count": null,
      "metadata": {
        "id": "78ZwYUegIxL-",
        "outputId": "762bcb0b-cfeb-4b1e-949d-b34a973f505b"
      },
      "outputs": [
        {
          "data": {
            "text/plain": [
              "{}"
            ]
          },
          "execution_count": 38,
          "metadata": {},
          "output_type": "execute_result"
        }
      ],
      "source": [
        "data.p.attrs"
      ]
    },
    {
      "cell_type": "code",
      "execution_count": null,
      "metadata": {
        "id": "BG27kKS7IxL-",
        "outputId": "91c45077-f920-46a0-a595-a9cbc65d1aca"
      },
      "outputs": [
        {
          "data": {
            "text/plain": [
              "{'id': 'linkweb', 'href': 'https://www.PrepInstaPrime.com'}"
            ]
          },
          "execution_count": 39,
          "metadata": {},
          "output_type": "execute_result"
        }
      ],
      "source": [
        "data.a.attrs"
      ]
    },
    {
      "cell_type": "code",
      "execution_count": null,
      "metadata": {
        "id": "PTy0g-_NIxL_",
        "outputId": "88ecb2cb-3464-4632-e847-bd3c8b61ea95"
      },
      "outputs": [
        {
          "data": {
            "text/plain": [
              "'linkweb'"
            ]
          },
          "execution_count": 40,
          "metadata": {},
          "output_type": "execute_result"
        }
      ],
      "source": [
        "#since, attributes are returned as a dictionary\n",
        "data.a['id']"
      ]
    },
    {
      "cell_type": "code",
      "execution_count": null,
      "metadata": {
        "id": "46-v5kcwIxL_",
        "outputId": "18b268fd-0445-438e-b35d-5e90d4bcb0aa"
      },
      "outputs": [
        {
          "ename": "KeyError",
          "evalue": "'id'",
          "output_type": "error",
          "traceback": [
            "\u001b[0;31m---------------------------------------------------------------------------\u001b[0m",
            "\u001b[0;31mKeyError\u001b[0m                                  Traceback (most recent call last)",
            "\u001b[0;32m<ipython-input-42-0db1d15aef31>\u001b[0m in \u001b[0;36m<module>\u001b[0;34m\u001b[0m\n\u001b[0;32m----> 1\u001b[0;31m \u001b[0mdata\u001b[0m\u001b[0;34m.\u001b[0m\u001b[0mh1\u001b[0m\u001b[0;34m[\u001b[0m\u001b[0;34m'id'\u001b[0m\u001b[0;34m]\u001b[0m\u001b[0;34m\u001b[0m\u001b[0;34m\u001b[0m\u001b[0m\n\u001b[0m",
            "\u001b[0;32m/opt/anaconda3/lib/python3.8/site-packages/bs4/element.py\u001b[0m in \u001b[0;36m__getitem__\u001b[0;34m(self, key)\u001b[0m\n\u001b[1;32m   1404\u001b[0m         \"\"\"tag[key] returns the value of the 'key' attribute for the Tag,\n\u001b[1;32m   1405\u001b[0m         and throws an exception if it's not there.\"\"\"\n\u001b[0;32m-> 1406\u001b[0;31m         \u001b[0;32mreturn\u001b[0m \u001b[0mself\u001b[0m\u001b[0;34m.\u001b[0m\u001b[0mattrs\u001b[0m\u001b[0;34m[\u001b[0m\u001b[0mkey\u001b[0m\u001b[0;34m]\u001b[0m\u001b[0;34m\u001b[0m\u001b[0;34m\u001b[0m\u001b[0m\n\u001b[0m\u001b[1;32m   1407\u001b[0m \u001b[0;34m\u001b[0m\u001b[0m\n\u001b[1;32m   1408\u001b[0m     \u001b[0;32mdef\u001b[0m \u001b[0m__iter__\u001b[0m\u001b[0;34m(\u001b[0m\u001b[0mself\u001b[0m\u001b[0;34m)\u001b[0m\u001b[0;34m:\u001b[0m\u001b[0;34m\u001b[0m\u001b[0;34m\u001b[0m\u001b[0m\n",
            "\u001b[0;31mKeyError\u001b[0m: 'id'"
          ]
        }
      ],
      "source": [
        "data.h1['id']"
      ]
    },
    {
      "cell_type": "code",
      "execution_count": null,
      "metadata": {
        "id": "pGJfGVGJIxMA",
        "outputId": "5a8d3147-d594-4865-a052-80fea5fdc80d"
      },
      "outputs": [
        {
          "ename": "KeyError",
          "evalue": "'href'",
          "output_type": "error",
          "traceback": [
            "\u001b[0;31m---------------------------------------------------------------------------\u001b[0m",
            "\u001b[0;31mKeyError\u001b[0m                                  Traceback (most recent call last)",
            "\u001b[0;32m<ipython-input-43-1af96317acdf>\u001b[0m in \u001b[0;36m<module>\u001b[0;34m\u001b[0m\n\u001b[0;32m----> 1\u001b[0;31m \u001b[0mdata\u001b[0m\u001b[0;34m.\u001b[0m\u001b[0mh1\u001b[0m\u001b[0;34m[\u001b[0m\u001b[0;34m'href'\u001b[0m\u001b[0;34m]\u001b[0m\u001b[0;34m\u001b[0m\u001b[0;34m\u001b[0m\u001b[0m\n\u001b[0m",
            "\u001b[0;32m/opt/anaconda3/lib/python3.8/site-packages/bs4/element.py\u001b[0m in \u001b[0;36m__getitem__\u001b[0;34m(self, key)\u001b[0m\n\u001b[1;32m   1404\u001b[0m         \"\"\"tag[key] returns the value of the 'key' attribute for the Tag,\n\u001b[1;32m   1405\u001b[0m         and throws an exception if it's not there.\"\"\"\n\u001b[0;32m-> 1406\u001b[0;31m         \u001b[0;32mreturn\u001b[0m \u001b[0mself\u001b[0m\u001b[0;34m.\u001b[0m\u001b[0mattrs\u001b[0m\u001b[0;34m[\u001b[0m\u001b[0mkey\u001b[0m\u001b[0;34m]\u001b[0m\u001b[0;34m\u001b[0m\u001b[0;34m\u001b[0m\u001b[0m\n\u001b[0m\u001b[1;32m   1407\u001b[0m \u001b[0;34m\u001b[0m\u001b[0m\n\u001b[1;32m   1408\u001b[0m     \u001b[0;32mdef\u001b[0m \u001b[0m__iter__\u001b[0m\u001b[0;34m(\u001b[0m\u001b[0mself\u001b[0m\u001b[0;34m)\u001b[0m\u001b[0;34m:\u001b[0m\u001b[0;34m\u001b[0m\u001b[0;34m\u001b[0m\u001b[0m\n",
            "\u001b[0;31mKeyError\u001b[0m: 'href'"
          ]
        }
      ],
      "source": [
        "data.h1['href']"
      ]
    },
    {
      "cell_type": "code",
      "execution_count": null,
      "metadata": {
        "id": "qj3A9mbbIxMB",
        "outputId": "5e1e3297-3f39-4c47-8ed8-36e31525b0e8"
      },
      "outputs": [
        {
          "data": {
            "text/plain": [
              "'linkweb'"
            ]
          },
          "execution_count": 44,
          "metadata": {},
          "output_type": "execute_result"
        }
      ],
      "source": [
        "# data.a['id']\n",
        "data.a.get('id')"
      ]
    },
    {
      "cell_type": "code",
      "execution_count": null,
      "metadata": {
        "id": "S1Q6isa8IxMC"
      },
      "outputs": [],
      "source": [
        "# data.h1['id']\n",
        "data.h1.get('id')"
      ]
    },
    {
      "cell_type": "code",
      "execution_count": null,
      "metadata": {
        "id": "WgC-8WvtIxMC",
        "outputId": "f8556028-9c99-4c5e-d44e-cd253bc0e7f8"
      },
      "outputs": [
        {
          "data": {
            "text/plain": [
              "' PrepInsta Website Welcome to PrepInsta This is a great website for us to prepare Overview What can you do on PrepInsta Website- You can Learn Skills You can Learn Coding You can Learn Languages You can Learn Aptitiude You can get Certifications Certifications You can get a High Paying Job PrepInsta offers you the opportunity to learn without limits all the Upskilling Courses, Placement Preparation &  Certification Courses with Single Subscription Visit PrepInstaPrime.com! Purchase Prime TCS NQT Course ML Course'"
            ]
          },
          "execution_count": 47,
          "metadata": {},
          "output_type": "execute_result"
        }
      ],
      "source": [
        "data.get_text()"
      ]
    },
    {
      "cell_type": "code",
      "execution_count": null,
      "metadata": {
        "id": "QYjcdKd9IxMD",
        "outputId": "865bec0f-3e82-4dfc-9a85-3b1090a9bc09"
      },
      "outputs": [
        {
          "name": "stdout",
          "output_type": "stream",
          "text": [
            "Welcome to PrepInsta\n"
          ]
        }
      ],
      "source": [
        "print(data.h1.string)"
      ]
    },
    {
      "cell_type": "code",
      "execution_count": null,
      "metadata": {
        "id": "-wWLQUYkIxMD",
        "outputId": "0c77faa5-a03a-4869-f9b7-ca31185ecf60"
      },
      "outputs": [
        {
          "data": {
            "text/plain": [
              "' Welcome to PrepInsta This is a great website for us to prepare Overview What can you do on PrepInsta Website- You can Learn Skills You can Learn Coding You can Learn Languages You can Learn Aptitiude You can get Certifications Certifications You can get a High Paying Job PrepInsta offers you the opportunity to learn without limits all the Upskilling Courses, Placement Preparation &  Certification Courses with Single Subscription Visit PrepInstaPrime.com! Purchase Prime TCS NQT Course ML Course'"
            ]
          },
          "execution_count": 50,
          "metadata": {},
          "output_type": "execute_result"
        }
      ],
      "source": [
        "data.body.get_text()"
      ]
    },
    {
      "cell_type": "code",
      "execution_count": null,
      "metadata": {
        "id": "-g4Mrrd8IxME"
      },
      "outputs": [],
      "source": []
    }
  ],
  "metadata": {
    "kernelspec": {
      "display_name": "Python 3",
      "language": "python",
      "name": "python3"
    },
    "language_info": {
      "codemirror_mode": {
        "name": "ipython",
        "version": 3
      },
      "file_extension": ".py",
      "mimetype": "text/x-python",
      "name": "python",
      "nbconvert_exporter": "python",
      "pygments_lexer": "ipython3",
      "version": "3.8.5"
    },
    "colab": {
      "provenance": [],
      "include_colab_link": true
    }
  },
  "nbformat": 4,
  "nbformat_minor": 0
}